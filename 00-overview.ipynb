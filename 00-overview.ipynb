{
 "cells": [
  {
   "cell_type": "markdown",
   "metadata": {},
   "source": [
    "# Introduction to Data Science with Python\n",
    "\n",
    "This course aims to introduce participants to working with Python to produce information about data.  My aim is that such a definition suggests a rather fluid understanding of what can be done with Python and Data Science.  No precise definition of a Data Scientist should be sought, and instead see this as an opportunity to create your own identity using a computing language that is able to complete a wide variety of tasks.\n",
    "\n",
    "Throughout the course, we will traverse these different capabilities of accessing, manipulating, and presenting using Python.  To begin, we introduce some basic tools like **UNIX** and **Git**, as well as using Python to access and manipulate data.  Next, we will explore some traditional models through Regression.  From here, we will explore some alternative data types and introduce Natural Language Processing and Web Scraping.  After this, we introduce additional models for Regression and Classification problems and ways to combine our early models.  Finally, we will explore some basic ideas in Deep Learning.  \n",
    "\n",
    "By the end of the class, you should be comfortable accessing, analyzing, and presenting a project of your own design.  "
   ]
  },
  {
   "cell_type": "markdown",
   "metadata": {},
   "source": [
    "### Outline\n",
    "\n",
    "| Class | Topic |\n",
    "| ----- | ----- |\n",
    "| 1  | Basic Tools: UNIX, Git, Python, Jupyter |\n",
    "| 2  | Exploratory Data Analysis with Python |\n",
    "| 3  | Presentation Graphics and Introduction to Flask |\n",
    "| 4  | Modeling Practice and Presentation I |\n",
    "| 5  | Linear Regression I |\n",
    "| 6  | Linear Regression II |\n",
    "| 7  | Classification I  |\n",
    "| 8  | Classification II |\n",
    "| 9  | Modeling Practice and Presentation II |\n",
    "| 10 | Webscraping and NLP I |\n",
    "| 11 | Webscraping and NLP II |\n",
    "| 12  | Additional Regression Models |\n",
    "| 13  | Additional Classification Models |\n",
    "| 14  | Decision Trees  |\n",
    "| 15  | Forests |\n",
    "| 16  | Modeling Practice and Presentation III |\n",
    "| 17  | Introduction to AI I |\n",
    "| 18  | Introduction to AI II |\n",
    "| 19  | Modeling Practice and Presentation IV  |\n",
    "| 20  | Final Presentations |"
   ]
  },
  {
   "cell_type": "markdown",
   "metadata": {},
   "source": [
    "### Assignments\n",
    "\n",
    "| Week Due | Assignment |\n",
    "| -------- | ---------- |\n",
    "| 2 | Find Dataset on Kaggle, Load in Jupyter notebook, Use github to share and structure. |\n",
    "| 3  | Exploratory Data Analysis and Presentation Graphics |\n",
    "| 5  | Regression Model |\n",
    "| 6  | Final Data Set |\n",
    "| 7  | Final EDA and Model Selection |\n",
    "| 8  | Final Models I |\n",
    "| 9  | Final Models II |\n",
    "| 10 | Final Presentation |"
   ]
  },
  {
   "cell_type": "markdown",
   "metadata": {},
   "source": [
    "### Using Materials\n",
    "\n",
    "To share materials, I will be using this github repository and updating it on a class by class basis.  You should create a repository on your personal github page and fork the repo -- creating a copy of the materials for yourself.  You will be able to update this fork as we move along.\n",
    "\n",
    "\n",
    "**STEPS**: \n",
    "\n",
    "1. Login to your gihub account, and navigate to this repository: https://github.com/jfkoehler/DAT-NYC-6.13\n",
    "2. Click the **FORK** button in the upper right corner, when prompted select your personal gihub page to create the fork.\n",
    "3. To create a local copy, copy the url from your github repository, navigate to your Desktop (`cd ~/Desktop`) and clone the repository (`git clone repo_url_goes_here`)\n"
   ]
  }
 ],
 "metadata": {
  "kernelspec": {
   "display_name": "Python 3",
   "language": "python",
   "name": "python3"
  },
  "language_info": {
   "codemirror_mode": {
    "name": "ipython",
    "version": 3
   },
   "file_extension": ".py",
   "mimetype": "text/x-python",
   "name": "python",
   "nbconvert_exporter": "python",
   "pygments_lexer": "ipython3",
   "version": "3.6.4"
  }
 },
 "nbformat": 4,
 "nbformat_minor": 2
}
